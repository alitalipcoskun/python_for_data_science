{
 "cells": [
  {
   "cell_type": "markdown",
   "id": "19ff5656-3ea9-4b0e-814f-1aa097d70457",
   "metadata": {},
   "source": [
    "**Miuul Python For Data Science Practices**\n",
    "\n",
    "1- Importing necesarry libraries to accomplish tasks."
   ]
  },
  {
   "cell_type": "code",
   "execution_count": 1,
   "id": "0ed9bf58-8145-4775-9c5d-1c140209492f",
   "metadata": {},
   "outputs": [],
   "source": [
    "import numpy as np\n",
    "import pandas as pd\n",
    "from matplotlib import pyplot as plt\n",
    "import seaborn as sns"
   ]
  },
  {
   "cell_type": "markdown",
   "id": "f50e450d-7bd2-4629-bac6-b86753d082a5",
   "metadata": {},
   "source": [
    "Reading the dataframe with the help of seaborn library."
   ]
  },
  {
   "cell_type": "code",
   "execution_count": 2,
   "id": "6005cd1b-74ef-49d1-8009-cb274f5a0481",
   "metadata": {},
   "outputs": [],
   "source": [
    "df = sns.load_dataset(\"car_crashes\")"
   ]
  },
  {
   "cell_type": "markdown",
   "id": "761afa8d-e160-4a20-b571-ef4e279d6bb9",
   "metadata": {},
   "source": [
    "Checking that dataframe is successfully on df variable."
   ]
  },
  {
   "cell_type": "code",
   "execution_count": 3,
   "id": "d080374b-151c-40ae-aa64-bc541e8c6c8e",
   "metadata": {},
   "outputs": [
    {
     "name": "stdout",
     "output_type": "stream",
     "text": [
      "   total  speeding  alcohol  not_distracted  no_previous  ins_premium  \\\n",
      "0   18.8     7.332    5.640          18.048       15.040       784.55   \n",
      "1   18.1     7.421    4.525          16.290       17.014      1053.48   \n",
      "2   18.6     6.510    5.208          15.624       17.856       899.47   \n",
      "3   22.4     4.032    5.824          21.056       21.280       827.34   \n",
      "4   12.0     4.200    3.360          10.920       10.680       878.41   \n",
      "\n",
      "   ins_losses abbrev  \n",
      "0      145.08     AL  \n",
      "1      133.93     AK  \n",
      "2      110.35     AZ  \n",
      "3      142.39     AR  \n",
      "4      165.63     CA  \n"
     ]
    }
   ],
   "source": [
    "print(df.head())"
   ]
  },
  {
   "cell_type": "markdown",
   "id": "334c39bb-3040-49f2-ae84-203e63610ff8",
   "metadata": {},
   "source": [
    "a) Adding **\"NUM\"** flag to the beginning of the numeric factors"
   ]
  },
  {
   "cell_type": "code",
   "execution_count": 4,
   "id": "e3e257a7-9384-4b5c-8663-fb911bc8a3e9",
   "metadata": {},
   "outputs": [],
   "source": [
    "df.columns = [f\"NUM_{column.upper()}\"  if df[column].dtypes in ['int64', 'float64'] else column.upper() for column in df.columns]"
   ]
  },
  {
   "cell_type": "code",
   "execution_count": 5,
   "id": "236b7d52-3e0f-4d12-ae14-1b3761bc2476",
   "metadata": {},
   "outputs": [
    {
     "name": "stdout",
     "output_type": "stream",
     "text": [
      "Index(['NUM_TOTAL', 'NUM_SPEEDING', 'NUM_ALCOHOL', 'NUM_NOT_DISTRACTED',\n",
      "       'NUM_NO_PREVIOUS', 'NUM_INS_PREMIUM', 'NUM_INS_LOSSES', 'ABBREV'],\n",
      "      dtype='object')\n"
     ]
    }
   ],
   "source": [
    "print(df.columns)"
   ]
  },
  {
   "cell_type": "markdown",
   "id": "88e0178d-dedd-4ffb-b428-50c1eea0b2a1",
   "metadata": {},
   "source": [
    "b) Adding **\"FLAG\"** flag to the end of the factors which not has **\"NO\"** argument on itself."
   ]
  },
  {
   "cell_type": "code",
   "execution_count": 4,
   "id": "5f71821b-69b1-4cfe-93df-7a77679507f2",
   "metadata": {},
   "outputs": [],
   "source": [
    "df.columns = [f\"{column.upper()}_FLAG\" if \"NO\" not in column.upper() else column.upper() for column in df.columns]"
   ]
  },
  {
   "cell_type": "code",
   "execution_count": 5,
   "id": "3d900550-a890-4947-a018-57b61fa1d5f2",
   "metadata": {},
   "outputs": [
    {
     "name": "stdout",
     "output_type": "stream",
     "text": [
      "Index(['TOTAL_FLAG', 'SPEEDING_FLAG', 'ALCOHOL_FLAG', 'NOT_DISTRACTED',\n",
      "       'NO_PREVIOUS', 'INS_PREMIUM_FLAG', 'INS_LOSSES_FLAG', 'ABBREV_FLAG'],\n",
      "      dtype='object')\n"
     ]
    }
   ],
   "source": [
    "print(df.columns)"
   ]
  },
  {
   "cell_type": "markdown",
   "id": "a83b1fb0-b96f-499f-8d78-bff34ffe5174",
   "metadata": {},
   "source": [
    "c)While using the list on above, check the columns that not in this list. In addition, create a new dataframe with these columns."
   ]
  },
  {
   "cell_type": "code",
   "execution_count": 4,
   "id": "dfae67f1-266d-4e61-9159-1766a5ac1a6b",
   "metadata": {},
   "outputs": [],
   "source": [
    "og_list = ['abbrev', 'no_previous']\n",
    "new_cols = [column for column in df.columns if column not in og_list]"
   ]
  },
  {
   "cell_type": "code",
   "execution_count": 5,
   "id": "d2789c0c-e62a-479e-8638-21af20c52fca",
   "metadata": {},
   "outputs": [],
   "source": [
    "new_df = df[new_cols]"
   ]
  },
  {
   "cell_type": "code",
   "execution_count": 6,
   "id": "d544bf7c-1f80-46b9-a981-a51702d36e57",
   "metadata": {},
   "outputs": [
    {
     "name": "stdout",
     "output_type": "stream",
     "text": [
      "   total  speeding  alcohol  not_distracted  ins_premium  ins_losses\n",
      "0   18.8     7.332    5.640          18.048       784.55      145.08\n",
      "1   18.1     7.421    4.525          16.290      1053.48      133.93\n",
      "2   18.6     6.510    5.208          15.624       899.47      110.35\n",
      "3   22.4     4.032    5.824          21.056       827.34      142.39\n",
      "4   12.0     4.200    3.360          10.920       878.41      165.63\n"
     ]
    }
   ],
   "source": [
    "print(new_df.head())"
   ]
  },
  {
   "cell_type": "code",
   "execution_count": null,
   "id": "e2d8b70e-3c9e-4d13-8b01-91561bef77be",
   "metadata": {},
   "outputs": [],
   "source": []
  }
 ],
 "metadata": {
  "kernelspec": {
   "display_name": "Python 3 (ipykernel)",
   "language": "python",
   "name": "python3"
  },
  "language_info": {
   "codemirror_mode": {
    "name": "ipython",
    "version": 3
   },
   "file_extension": ".py",
   "mimetype": "text/x-python",
   "name": "python",
   "nbconvert_exporter": "python",
   "pygments_lexer": "ipython3",
   "version": "3.8.18"
  }
 },
 "nbformat": 4,
 "nbformat_minor": 5
}
