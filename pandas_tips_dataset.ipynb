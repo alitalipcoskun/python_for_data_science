{
 "cells": [
  {
   "cell_type": "markdown",
   "id": "6b8be4d5-7da4-41cb-a55e-2a046e679736",
   "metadata": {},
   "source": [
    "**Pandas Practice #2**\n",
    "\n",
    "Importing necesarry libraries to satisfy the requirenments of the tasks."
   ]
  },
  {
   "cell_type": "code",
   "execution_count": 1,
   "id": "2b18da89-2c10-4f79-af4d-fee8a923011e",
   "metadata": {},
   "outputs": [],
   "source": [
    "import numpy as np\n",
    "import pandas as pd\n",
    "from matplotlib import pyplot as plt\n",
    "import seaborn as sns"
   ]
  },
  {
   "cell_type": "markdown",
   "id": "09423b18-2b04-46a4-abe2-e16179684592",
   "metadata": {},
   "source": [
    "1) Read the dataframe named **'tips'**."
   ]
  },
  {
   "cell_type": "code",
   "execution_count": 2,
   "id": "4548546f-5878-42a6-8fb3-ee8821f8e9b6",
   "metadata": {},
   "outputs": [],
   "source": [
    "df = sns.load_dataset('tips')"
   ]
  },
  {
   "cell_type": "code",
   "execution_count": 3,
   "id": "69c64cc2-548b-4d09-a3ea-dcd6b2ad5af4",
   "metadata": {},
   "outputs": [
    {
     "name": "stdout",
     "output_type": "stream",
     "text": [
      "   total_bill   tip     sex smoker  day    time  size\n",
      "0       16.99  1.01  Female     No  Sun  Dinner     2\n",
      "1       10.34  1.66    Male     No  Sun  Dinner     3\n",
      "2       21.01  3.50    Male     No  Sun  Dinner     3\n",
      "3       23.68  3.31    Male     No  Sun  Dinner     2\n",
      "4       24.59  3.61  Female     No  Sun  Dinner     4\n"
     ]
    }
   ],
   "source": [
    "print(df.head())"
   ]
  },
  {
   "cell_type": "markdown",
   "id": "283531d7-5e8c-43ba-8965-8ead5d8da0bf",
   "metadata": {},
   "source": [
    "2) Find the **min, max, and mean values of \"total_bill\"** variable with respect to **the time variable**."
   ]
  },
  {
   "cell_type": "code",
   "execution_count": 4,
   "id": "12f6590d-b760-4c3d-a12e-120212a7c95a",
   "metadata": {},
   "outputs": [
    {
     "name": "stdout",
     "output_type": "stream",
     "text": [
      "       total_bill                  \n",
      "              min    max       mean\n",
      "time                               \n",
      "Lunch        7.51  43.11  17.168676\n",
      "Dinner       3.07  50.81  20.797159\n"
     ]
    }
   ],
   "source": [
    "print(df.groupby('time').agg({'total_bill': ['min', 'max', 'mean']}))"
   ]
  },
  {
   "cell_type": "markdown",
   "id": "39939976-9c31-4980-ad83-316ad89d672f",
   "metadata": {},
   "source": [
    "3) Find the **min, max and mean values of 'total_bill' column** with respect to the **time and day variables.**"
   ]
  },
  {
   "cell_type": "code",
   "execution_count": 5,
   "id": "46c61dc6-7953-42ac-b5b2-de5911f13c40",
   "metadata": {},
   "outputs": [
    {
     "name": "stdout",
     "output_type": "stream",
     "text": [
      "            total_bill                  \n",
      "                   max    min       mean\n",
      "day  time                               \n",
      "Thur Lunch       43.11   7.51  17.664754\n",
      "     Dinner      18.78  18.78  18.780000\n",
      "Fri  Lunch       16.27   8.58  12.845714\n",
      "     Dinner      40.17   5.75  19.663333\n",
      "Sat  Lunch         NaN    NaN        NaN\n",
      "     Dinner      50.81   3.07  20.441379\n",
      "Sun  Lunch         NaN    NaN        NaN\n",
      "     Dinner      48.17   7.25  21.410000\n"
     ]
    }
   ],
   "source": [
    "print(df.groupby(['day', 'time']).agg({'total_bill': ['max', 'min', 'mean']}))"
   ]
  },
  {
   "cell_type": "markdown",
   "id": "0a22b4c5-dffc-4bab-bad3-e6543e9e4524",
   "metadata": {},
   "source": [
    "4) Find out the min, max and mean of the **total_bill and tips variables** for the **time variable which is equal to \"Lunch\"**, and **\"Female\" customers**."
   ]
  },
  {
   "cell_type": "code",
   "execution_count": 9,
   "id": "29eeb8de-e9b0-4b84-844b-07719d2031f0",
   "metadata": {},
   "outputs": [
    {
     "name": "stdout",
     "output_type": "stream",
     "text": [
      "     total_bill                     tip            \n",
      "           mean    max    min      mean   max   min\n",
      "day                                                \n",
      "Thur   16.64871  43.11   8.35  2.561935  5.17  1.25\n",
      "Fri    13.94000  16.27  10.09  2.745000  3.48  2.00\n",
      "Sat         NaN    NaN    NaN       NaN   NaN   NaN\n",
      "Sun         NaN    NaN    NaN       NaN   NaN   NaN\n"
     ]
    }
   ],
   "source": [
    "print(df[(df['sex'] == 'Female') & (df['time'] == 'Lunch')].groupby('day').agg({'total_bill': ['mean', 'max', 'min'], 'tip': ['mean', 'max', 'min']}))"
   ]
  },
  {
   "cell_type": "markdown",
   "id": "a75e6635-56d9-4861-97d7-aaac40f5d30b",
   "metadata": {},
   "source": [
    "5) Find the **mean of the orders** with respect to the **\"size\" is less than 3**, and **\"total_bill\" is bigger than 10**. **(use .loc[] to accomplish the task.)**"
   ]
  },
  {
   "cell_type": "code",
   "execution_count": 10,
   "id": "a0b9ec8a-839a-4761-bb54-6c2ce5e52606",
   "metadata": {},
   "outputs": [
    {
     "name": "stdout",
     "output_type": "stream",
     "text": [
      "      total_bill\n",
      "mean   17.184965\n"
     ]
    }
   ],
   "source": [
    "print(df.loc[(df['size'] < 3) & (df['total_bill'] > 10), :].agg({'total_bill': ['mean']}))"
   ]
  },
  {
   "cell_type": "markdown",
   "id": "62a2fb76-540f-41b1-b014-3e386f0ce6f2",
   "metadata": {},
   "source": [
    "6) **Add the \"total_bill\" and \"tip\"** variables together and **store it** on dataframe with the column named **\"total_bill_tip_sum\"**."
   ]
  },
  {
   "cell_type": "code",
   "execution_count": 12,
   "id": "3c36fe41-b61c-4e76-b0c7-c9eebc67b956",
   "metadata": {},
   "outputs": [
    {
     "name": "stdout",
     "output_type": "stream",
     "text": [
      "   total_bill   tip     sex smoker  day    time  size  tota_bill_tip_sum  \\\n",
      "0       16.99  1.01  Female     No  Sun  Dinner     2              18.00   \n",
      "1       10.34  1.66    Male     No  Sun  Dinner     3              12.00   \n",
      "2       21.01  3.50    Male     No  Sun  Dinner     3              24.51   \n",
      "3       23.68  3.31    Male     No  Sun  Dinner     2              26.99   \n",
      "4       24.59  3.61  Female     No  Sun  Dinner     4              28.20   \n",
      "\n",
      "   total_bill_tip_sum  \n",
      "0               18.00  \n",
      "1               12.00  \n",
      "2               24.51  \n",
      "3               26.99  \n",
      "4               28.20  \n"
     ]
    }
   ],
   "source": [
    "df['total_bill_tip_sum'] = df['total_bill'] + df['tip']\n",
    "print(df.head())"
   ]
  },
  {
   "cell_type": "markdown",
   "id": "5f77b83c-e0bd-4330-9c3f-bf5235539c57",
   "metadata": {},
   "source": [
    "7) Sort the dataframe with respect to the **'total_bill_tip_sum' variable and descending order**. Create a new variable called 'new_df' and **store the first thirty element** of the dataframe with respect to the descending order."
   ]
  },
  {
   "cell_type": "code",
   "execution_count": 15,
   "id": "e0818036-e597-449c-aa28-1e221996026a",
   "metadata": {},
   "outputs": [],
   "source": [
    "df = df.sort_values(by=['total_bill_tip_sum'], ascending = False)"
   ]
  },
  {
   "cell_type": "code",
   "execution_count": 17,
   "id": "851367c9-2c11-4d44-9d99-fe0dc3e0d616",
   "metadata": {},
   "outputs": [
    {
     "name": "stdout",
     "output_type": "stream",
     "text": [
      "(244, 8)\n"
     ]
    }
   ],
   "source": [
    "print(df.shape)"
   ]
  },
  {
   "cell_type": "code",
   "execution_count": 19,
   "id": "a19560cf-bd36-40ac-afb5-c579a563f366",
   "metadata": {},
   "outputs": [
    {
     "name": "stdout",
     "output_type": "stream",
     "text": [
      "(30, 8)\n"
     ]
    }
   ],
   "source": [
    "new_df = df.iloc[0:30, :]\n",
    "print(new_df.shape)"
   ]
  },
  {
   "cell_type": "code",
   "execution_count": null,
   "id": "06d4684f-661d-4684-8299-808f73b0a08c",
   "metadata": {},
   "outputs": [],
   "source": []
  }
 ],
 "metadata": {
  "kernelspec": {
   "display_name": "Python 3 (ipykernel)",
   "language": "python",
   "name": "python3"
  },
  "language_info": {
   "codemirror_mode": {
    "name": "ipython",
    "version": 3
   },
   "file_extension": ".py",
   "mimetype": "text/x-python",
   "name": "python",
   "nbconvert_exporter": "python",
   "pygments_lexer": "ipython3",
   "version": "3.8.18"
  }
 },
 "nbformat": 4,
 "nbformat_minor": 5
}
