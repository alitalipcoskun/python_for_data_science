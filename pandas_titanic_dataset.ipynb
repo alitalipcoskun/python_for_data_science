{
 "cells": [
  {
   "cell_type": "markdown",
   "id": "1da6320f-2bd0-4742-9f6b-1477656bb6ed",
   "metadata": {},
   "source": [
    "**PANDAS PRACTICES**\n",
    "\n",
    "Importing necesarry libraries to accomplish the tasks."
   ]
  },
  {
   "cell_type": "code",
   "execution_count": 1,
   "id": "93778d13-deb6-4098-821a-6a6e60801dd7",
   "metadata": {},
   "outputs": [],
   "source": [
    "import numpy as np\n",
    "import pandas as pd\n",
    "from matplotlib import pyplot as plt\n",
    "import seaborn as sns\n",
    "import missingno as msno"
   ]
  },
  {
   "cell_type": "markdown",
   "id": "4d3870da-2426-4991-9b7d-ccb3a15748b8",
   "metadata": {},
   "source": [
    "1) Reading the dataframe called **\"Titanic\"**"
   ]
  },
  {
   "cell_type": "code",
   "execution_count": 2,
   "id": "bf348f93-b4d4-4eda-968d-d62b3f26410a",
   "metadata": {},
   "outputs": [],
   "source": [
    "df = sns.load_dataset('titanic')"
   ]
  },
  {
   "cell_type": "code",
   "execution_count": 3,
   "id": "2889a66a-b02b-46ba-9624-ca99d6fe12c8",
   "metadata": {},
   "outputs": [
    {
     "name": "stdout",
     "output_type": "stream",
     "text": [
      "   survived  pclass     sex   age  sibsp  parch     fare embarked  class  \\\n",
      "0         0       3    male  22.0      1      0   7.2500        S  Third   \n",
      "1         1       1  female  38.0      1      0  71.2833        C  First   \n",
      "2         1       3  female  26.0      0      0   7.9250        S  Third   \n",
      "3         1       1  female  35.0      1      0  53.1000        S  First   \n",
      "4         0       3    male  35.0      0      0   8.0500        S  Third   \n",
      "\n",
      "     who  adult_male deck  embark_town alive  alone  \n",
      "0    man        True  NaN  Southampton    no  False  \n",
      "1  woman       False    C    Cherbourg   yes  False  \n",
      "2  woman       False  NaN  Southampton   yes   True  \n",
      "3  woman       False    C  Southampton   yes  False  \n",
      "4    man        True  NaN  Southampton    no   True  \n"
     ]
    }
   ],
   "source": [
    "print(df.head())"
   ]
  },
  {
   "cell_type": "markdown",
   "id": "3ff795e7-85e7-4828-89f1-e7f988163c1d",
   "metadata": {},
   "source": [
    "2) Finding out the male and female passengers from dataset"
   ]
  },
  {
   "cell_type": "code",
   "execution_count": 4,
   "id": "cb04c43a-95c5-469d-94bf-c5501240837e",
   "metadata": {},
   "outputs": [
    {
     "name": "stdout",
     "output_type": "stream",
     "text": [
      "sex\n",
      "male      577\n",
      "female    314\n",
      "Name: count, dtype: int64\n"
     ]
    }
   ],
   "source": [
    "print(df['sex'].value_counts())"
   ]
  },
  {
   "cell_type": "markdown",
   "id": "6166c937-b3e0-4de1-bac6-50911413eeb0",
   "metadata": {},
   "source": [
    "3) Finding out the amount of unique values for each column"
   ]
  },
  {
   "cell_type": "code",
   "execution_count": 5,
   "id": "6ae91214-fc41-4a0c-aa1d-66d0e1a208c3",
   "metadata": {},
   "outputs": [
    {
     "name": "stdout",
     "output_type": "stream",
     "text": [
      "survived has 2 unique values\n",
      "pclass has 3 unique values\n",
      "sex has 2 unique values\n",
      "age has 88 unique values\n",
      "sibsp has 7 unique values\n",
      "parch has 7 unique values\n",
      "fare has 248 unique values\n",
      "embarked has 3 unique values\n",
      "class has 3 unique values\n",
      "who has 3 unique values\n",
      "adult_male has 2 unique values\n",
      "deck has 7 unique values\n",
      "embark_town has 3 unique values\n",
      "alive has 2 unique values\n",
      "alone has 2 unique values\n"
     ]
    }
   ],
   "source": [
    "for column in df.columns:\n",
    "    print(f\"{column} has {df[column].nunique()} unique values\")"
   ]
  },
  {
   "cell_type": "markdown",
   "id": "ed3dd4f9-11ca-4dcc-b5c9-c3aae26a975e",
   "metadata": {},
   "source": [
    "4) Finding out the unique values for **\"pclass\"** column"
   ]
  },
  {
   "cell_type": "code",
   "execution_count": 6,
   "id": "1a55027a-bc8c-497f-92c4-fc6ad54fe696",
   "metadata": {},
   "outputs": [
    {
     "name": "stdout",
     "output_type": "stream",
     "text": [
      "[3 1 2]\n"
     ]
    }
   ],
   "source": [
    "print(df['pclass'].unique())"
   ]
  },
  {
   "cell_type": "code",
   "execution_count": 7,
   "id": "c83d6f25-d947-4693-8262-8a591fbe6ae1",
   "metadata": {},
   "outputs": [
    {
     "name": "stdout",
     "output_type": "stream",
     "text": [
      "pclass\n",
      "3    491\n",
      "1    216\n",
      "2    184\n",
      "Name: count, dtype: int64\n"
     ]
    }
   ],
   "source": [
    "print(df['pclass'].value_counts())"
   ]
  },
  {
   "cell_type": "markdown",
   "id": "923b1a92-9a4d-4acb-945d-6ab0a84457de",
   "metadata": {},
   "source": [
    "5) Finding the unique values for the **\"pclass\" and \"parch\"** columns"
   ]
  },
  {
   "cell_type": "code",
   "execution_count": 8,
   "id": "cf0d1b73-5c5d-415d-a485-066cd5d9afc4",
   "metadata": {},
   "outputs": [
    {
     "name": "stdout",
     "output_type": "stream",
     "text": [
      "pclass    3\n",
      "parch     7\n",
      "dtype: int64\n"
     ]
    }
   ],
   "source": [
    "print(df[['pclass', 'parch']].nunique())"
   ]
  },
  {
   "cell_type": "markdown",
   "id": "f2930d88-bfdd-465a-aeee-5a5ebe0172da",
   "metadata": {},
   "source": [
    "6) Check the **type of \"embarked\" column**. Change it to category and check the type of it again."
   ]
  },
  {
   "cell_type": "code",
   "execution_count": 9,
   "id": "2d5d3472-a087-4be6-8e2c-1cbc2e3cf5ac",
   "metadata": {},
   "outputs": [
    {
     "name": "stdout",
     "output_type": "stream",
     "text": [
      "object\n"
     ]
    }
   ],
   "source": [
    "print(df['embarked'].dtype)"
   ]
  },
  {
   "cell_type": "code",
   "execution_count": 10,
   "id": "0ec7d9f6-49b5-4234-84e7-60d3c4ca8b96",
   "metadata": {},
   "outputs": [],
   "source": [
    "df = df.astype({'embarked': 'category'})"
   ]
  },
  {
   "cell_type": "code",
   "execution_count": 11,
   "id": "7a8e854d-1610-4846-843b-3d543c316d40",
   "metadata": {},
   "outputs": [
    {
     "name": "stdout",
     "output_type": "stream",
     "text": [
      "category\n"
     ]
    }
   ],
   "source": [
    "print(df['embarked'].dtype)"
   ]
  },
  {
   "cell_type": "markdown",
   "id": "bb63a96f-9cf5-42c5-b723-97d74cf07be9",
   "metadata": {},
   "source": [
    "7) Print the rows that has **the embarked column is 'C'**."
   ]
  },
  {
   "cell_type": "code",
   "execution_count": 12,
   "id": "654472da-b471-4422-aff2-1b3ed8236a83",
   "metadata": {},
   "outputs": [
    {
     "name": "stdout",
     "output_type": "stream",
     "text": [
      "     survived  pclass     sex   age  sibsp  parch     fare embarked   class  \\\n",
      "1           1       1  female  38.0      1      0  71.2833        C   First   \n",
      "9           1       2  female  14.0      1      0  30.0708        C  Second   \n",
      "19          1       3  female   NaN      0      0   7.2250        C   Third   \n",
      "26          0       3    male   NaN      0      0   7.2250        C   Third   \n",
      "30          0       1    male  40.0      0      0  27.7208        C   First   \n",
      "..        ...     ...     ...   ...    ...    ...      ...      ...     ...   \n",
      "866         1       2  female  27.0      1      0  13.8583        C  Second   \n",
      "874         1       2  female  28.0      1      0  24.0000        C  Second   \n",
      "875         1       3  female  15.0      0      0   7.2250        C   Third   \n",
      "879         1       1  female  56.0      0      1  83.1583        C   First   \n",
      "889         1       1    male  26.0      0      0  30.0000        C   First   \n",
      "\n",
      "       who  adult_male deck embark_town alive  alone  \n",
      "1    woman       False    C   Cherbourg   yes  False  \n",
      "9    child       False  NaN   Cherbourg   yes  False  \n",
      "19   woman       False  NaN   Cherbourg   yes   True  \n",
      "26     man        True  NaN   Cherbourg    no   True  \n",
      "30     man        True  NaN   Cherbourg    no   True  \n",
      "..     ...         ...  ...         ...   ...    ...  \n",
      "866  woman       False  NaN   Cherbourg   yes  False  \n",
      "874  woman       False  NaN   Cherbourg   yes  False  \n",
      "875  child       False  NaN   Cherbourg   yes   True  \n",
      "879  woman       False    C   Cherbourg   yes  False  \n",
      "889    man        True    C   Cherbourg   yes   True  \n",
      "\n",
      "[168 rows x 15 columns]\n"
     ]
    }
   ],
   "source": [
    "print(df.loc[(df['embarked'] == 'C'), :])"
   ]
  },
  {
   "cell_type": "markdown",
   "id": "6a9dddb1-3241-4fbc-a79c-fa8ae1caa20c",
   "metadata": {},
   "source": [
    "8) Print the rows that **the embarked column is different than 'S'**."
   ]
  },
  {
   "cell_type": "code",
   "execution_count": 13,
   "id": "e57eaef0-5f33-477c-8c62-164e5f7466db",
   "metadata": {},
   "outputs": [
    {
     "name": "stdout",
     "output_type": "stream",
     "text": [
      "     survived  pclass     sex   age  sibsp  parch     fare embarked   class  \\\n",
      "1           1       1  female  38.0      1      0  71.2833        C   First   \n",
      "5           0       3    male   NaN      0      0   8.4583        Q   Third   \n",
      "9           1       2  female  14.0      1      0  30.0708        C  Second   \n",
      "16          0       3    male   2.0      4      1  29.1250        Q   Third   \n",
      "19          1       3  female   NaN      0      0   7.2250        C   Third   \n",
      "..        ...     ...     ...   ...    ...    ...      ...      ...     ...   \n",
      "875         1       3  female  15.0      0      0   7.2250        C   Third   \n",
      "879         1       1  female  56.0      0      1  83.1583        C   First   \n",
      "885         0       3  female  39.0      0      5  29.1250        Q   Third   \n",
      "889         1       1    male  26.0      0      0  30.0000        C   First   \n",
      "890         0       3    male  32.0      0      0   7.7500        Q   Third   \n",
      "\n",
      "       who  adult_male deck embark_town alive  alone  \n",
      "1    woman       False    C   Cherbourg   yes  False  \n",
      "5      man        True  NaN  Queenstown    no   True  \n",
      "9    child       False  NaN   Cherbourg   yes  False  \n",
      "16   child       False  NaN  Queenstown    no  False  \n",
      "19   woman       False  NaN   Cherbourg   yes   True  \n",
      "..     ...         ...  ...         ...   ...    ...  \n",
      "875  child       False  NaN   Cherbourg   yes   True  \n",
      "879  woman       False    C   Cherbourg   yes  False  \n",
      "885  woman       False  NaN  Queenstown    no  False  \n",
      "889    man        True    C   Cherbourg   yes   True  \n",
      "890    man        True  NaN  Queenstown    no   True  \n",
      "\n",
      "[247 rows x 15 columns]\n"
     ]
    }
   ],
   "source": [
    "print(df[df['embarked'] != 'S'])"
   ]
  },
  {
   "cell_type": "markdown",
   "id": "3f3c62ea-779b-43f3-bca7-59a06c7b98f7",
   "metadata": {},
   "source": [
    "9) Print the passengers that **their age is less than 30** and **their gender is female**."
   ]
  },
  {
   "cell_type": "code",
   "execution_count": 14,
   "id": "85f21e00-ce9d-4c34-91ce-1ad4dc7bd2f4",
   "metadata": {},
   "outputs": [
    {
     "name": "stdout",
     "output_type": "stream",
     "text": [
      "     survived  pclass     sex   age  sibsp  parch     fare embarked   class  \\\n",
      "2           1       3  female  26.0      0      0   7.9250        S   Third   \n",
      "8           1       3  female  27.0      0      2  11.1333        S   Third   \n",
      "9           1       2  female  14.0      1      0  30.0708        C  Second   \n",
      "10          1       3  female   4.0      1      1  16.7000        S   Third   \n",
      "14          0       3  female  14.0      0      0   7.8542        S   Third   \n",
      "..        ...     ...     ...   ...    ...    ...      ...      ...     ...   \n",
      "874         1       2  female  28.0      1      0  24.0000        C  Second   \n",
      "875         1       3  female  15.0      0      0   7.2250        C   Third   \n",
      "880         1       2  female  25.0      0      1  26.0000        S  Second   \n",
      "882         0       3  female  22.0      0      0  10.5167        S   Third   \n",
      "887         1       1  female  19.0      0      0  30.0000        S   First   \n",
      "\n",
      "       who  adult_male deck  embark_town alive  alone  \n",
      "2    woman       False  NaN  Southampton   yes   True  \n",
      "8    woman       False  NaN  Southampton   yes  False  \n",
      "9    child       False  NaN    Cherbourg   yes  False  \n",
      "10   child       False    G  Southampton   yes  False  \n",
      "14   child       False  NaN  Southampton    no   True  \n",
      "..     ...         ...  ...          ...   ...    ...  \n",
      "874  woman       False  NaN    Cherbourg   yes  False  \n",
      "875  child       False  NaN    Cherbourg   yes   True  \n",
      "880  woman       False  NaN  Southampton   yes  False  \n",
      "882  woman       False  NaN  Southampton    no   True  \n",
      "887  woman       False    B  Southampton   yes   True  \n",
      "\n",
      "[147 rows x 15 columns]\n"
     ]
    }
   ],
   "source": [
    "print(df[(df['age'] < 30) & (df['sex'] == 'female')])"
   ]
  },
  {
   "cell_type": "markdown",
   "id": "e627d7d8-8191-4f13-9bfb-f91180682afc",
   "metadata": {},
   "source": [
    "10) Print the rows that has **the fare column is bigger than 500 or the age column is bigger than 70**."
   ]
  },
  {
   "cell_type": "code",
   "execution_count": 15,
   "id": "39cb0028-a2bf-4b47-9480-f845d880dbd9",
   "metadata": {},
   "outputs": [
    {
     "name": "stdout",
     "output_type": "stream",
     "text": [
      "     survived  pclass     sex   age  sibsp  parch      fare embarked  class  \\\n",
      "96          0       1    male  71.0      0      0   34.6542        C  First   \n",
      "116         0       3    male  70.5      0      0    7.7500        Q  Third   \n",
      "258         1       1  female  35.0      0      0  512.3292        C  First   \n",
      "493         0       1    male  71.0      0      0   49.5042        C  First   \n",
      "630         1       1    male  80.0      0      0   30.0000        S  First   \n",
      "679         1       1    male  36.0      0      1  512.3292        C  First   \n",
      "737         1       1    male  35.0      0      0  512.3292        C  First   \n",
      "851         0       3    male  74.0      0      0    7.7750        S  Third   \n",
      "\n",
      "       who  adult_male deck  embark_town alive  alone  \n",
      "96     man        True    A    Cherbourg    no   True  \n",
      "116    man        True  NaN   Queenstown    no   True  \n",
      "258  woman       False  NaN    Cherbourg   yes   True  \n",
      "493    man        True  NaN    Cherbourg    no   True  \n",
      "630    man        True    A  Southampton   yes   True  \n",
      "679    man        True    B    Cherbourg   yes  False  \n",
      "737    man        True    B    Cherbourg   yes   True  \n",
      "851    man        True  NaN  Southampton    no   True  \n"
     ]
    }
   ],
   "source": [
    "print(df[(df['fare'] > 500) | (df['age'] > 70)])"
   ]
  },
  {
   "cell_type": "markdown",
   "id": "e8f532b5-1b59-4b06-a430-6224ce105c91",
   "metadata": {},
   "source": [
    "11) Find out **empty values** for each column"
   ]
  },
  {
   "cell_type": "code",
   "execution_count": 16,
   "id": "3c60a807-b37e-4fb3-b1ae-e40cc2ec2d8d",
   "metadata": {},
   "outputs": [
    {
     "name": "stdout",
     "output_type": "stream",
     "text": [
      "survived has 0 empty values.\n",
      "pclass has 0 empty values.\n",
      "sex has 0 empty values.\n",
      "age has 177 empty values.\n",
      "sibsp has 0 empty values.\n",
      "parch has 0 empty values.\n",
      "fare has 0 empty values.\n",
      "embarked has 2 empty values.\n",
      "class has 0 empty values.\n",
      "who has 0 empty values.\n",
      "adult_male has 0 empty values.\n",
      "deck has 688 empty values.\n",
      "embark_town has 2 empty values.\n",
      "alive has 0 empty values.\n",
      "alone has 0 empty values.\n"
     ]
    }
   ],
   "source": [
    "for column in df.columns:\n",
    "    print(f\"{column} has {df[column].isnull().values.sum()} empty values.\")"
   ]
  },
  {
   "cell_type": "markdown",
   "id": "6982f658-3c02-442e-8134-86a75e0cb251",
   "metadata": {},
   "source": [
    "12) Remove the **\"who\" column** from the dataframe"
   ]
  },
  {
   "cell_type": "code",
   "execution_count": 17,
   "id": "605a6976-ccc9-4163-ae25-390a53f77821",
   "metadata": {},
   "outputs": [],
   "source": [
    "df.drop(columns=[\"who\"], inplace = True)"
   ]
  },
  {
   "cell_type": "code",
   "execution_count": 18,
   "id": "62874140-3830-46f2-8ff3-64bd56cd9af7",
   "metadata": {},
   "outputs": [
    {
     "name": "stdout",
     "output_type": "stream",
     "text": [
      "Index(['survived', 'pclass', 'sex', 'age', 'sibsp', 'parch', 'fare',\n",
      "       'embarked', 'class', 'adult_male', 'deck', 'embark_town', 'alive',\n",
      "       'alone'],\n",
      "      dtype='object')\n"
     ]
    }
   ],
   "source": [
    "print(df.columns)"
   ]
  },
  {
   "cell_type": "markdown",
   "id": "a2d3702a-ea87-4224-942f-6094d88b385f",
   "metadata": {},
   "source": [
    "13) Find out the empty rows for 'deck' column and fill them with the most frequent value of the column."
   ]
  },
  {
   "cell_type": "code",
   "execution_count": 41,
   "id": "301fb223-c8b4-4864-be00-113283d40fa9",
   "metadata": {},
   "outputs": [],
   "source": [
    "df['deck'] = np.where(df['deck'].isnull(), df['deck'].mode(), df['deck'])"
   ]
  },
  {
   "cell_type": "code",
   "execution_count": 43,
   "id": "bc0fec1b-7221-4eb7-acd8-e3541290c30d",
   "metadata": {},
   "outputs": [
    {
     "name": "stdout",
     "output_type": "stream",
     "text": [
      "False\n"
     ]
    }
   ],
   "source": [
    "print(df['deck'].isnull().values.any())"
   ]
  },
  {
   "cell_type": "markdown",
   "id": "1a4ab412-7eb6-472d-a9a2-8f8390efb1e8",
   "metadata": {},
   "source": [
    "14) Filling empty values for age variable with respect to the mean value of the age column"
   ]
  },
  {
   "cell_type": "code",
   "execution_count": 44,
   "id": "a44ceb01-df00-4cc1-bebd-98f5d9424875",
   "metadata": {},
   "outputs": [],
   "source": [
    "df['age'] = np.where(df['age'].isnull(), df['age'].mean(), df['age'])"
   ]
  },
  {
   "cell_type": "code",
   "execution_count": 45,
   "id": "8effe6b3-93f0-4b90-b77e-fa7334ed9b70",
   "metadata": {},
   "outputs": [
    {
     "name": "stdout",
     "output_type": "stream",
     "text": [
      "False\n"
     ]
    }
   ],
   "source": [
    "print(df['age'].isnull().values.any())"
   ]
  },
  {
   "cell_type": "markdown",
   "id": "41bb39b0-d98f-4e17-b7ab-d21a4cb440c5",
   "metadata": {},
   "source": [
    "15) Find the sum, count, and mean values for the survived variable, broken down by the pclass and gender variables."
   ]
  },
  {
   "cell_type": "code",
   "execution_count": 46,
   "id": "b87404cc-bf50-4797-a1a1-08109421ca83",
   "metadata": {},
   "outputs": [
    {
     "name": "stdout",
     "output_type": "stream",
     "text": [
      "               survived          \n",
      "                   mean sum count\n",
      "pclass sex                       \n",
      "1      female  0.968085  91    94\n",
      "       male    0.368852  45   122\n",
      "2      female  0.921053  70    76\n",
      "       male    0.157407  17   108\n",
      "3      female  0.500000  72   144\n",
      "       male    0.135447  47   347\n"
     ]
    }
   ],
   "source": [
    "print(df.groupby(['pclass', 'sex']).agg({'survived': ['mean', 'sum', 'count']}))"
   ]
  },
  {
   "cell_type": "markdown",
   "id": "1c8e16f8-c6e7-4091-a2a9-3b81ec5adc5e",
   "metadata": {},
   "source": [
    "16) Return 1 if age column is less than 30, else return 0. Create a new variable called **'age_flag'** and store it on the dataframe. **(use apply and lambda to accomplish the task correctly.)**"
   ]
  },
  {
   "cell_type": "code",
   "execution_count": 47,
   "id": "dbc211d3-fdd6-44b0-a3c5-d772a6c9c522",
   "metadata": {},
   "outputs": [],
   "source": [
    "df['age_flag'] = df['age'].apply(lambda age: 0 if age > 30 else 1)"
   ]
  },
  {
   "cell_type": "code",
   "execution_count": 48,
   "id": "a07331f3-d57a-424e-beec-a6ecb1e65d68",
   "metadata": {},
   "outputs": [
    {
     "name": "stdout",
     "output_type": "stream",
     "text": [
      "   age_flag   age\n",
      "0         1  22.0\n",
      "1         0  38.0\n",
      "2         1  26.0\n",
      "3         0  35.0\n",
      "4         0  35.0\n"
     ]
    }
   ],
   "source": [
    "print(df[['age_flag', 'age']].head())"
   ]
  }
 ],
 "metadata": {
  "kernelspec": {
   "display_name": "Python 3 (ipykernel)",
   "language": "python",
   "name": "python3"
  },
  "language_info": {
   "codemirror_mode": {
    "name": "ipython",
    "version": 3
   },
   "file_extension": ".py",
   "mimetype": "text/x-python",
   "name": "python",
   "nbconvert_exporter": "python",
   "pygments_lexer": "ipython3",
   "version": "3.8.18"
  }
 },
 "nbformat": 4,
 "nbformat_minor": 5
}
